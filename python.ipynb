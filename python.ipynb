{
  "nbformat": 4,
  "nbformat_minor": 0,
  "metadata": {
    "colab": {
      "provenance": [],
      "authorship_tag": "ABX9TyPx4b1P1OHiB/k7b84nACuZ",
      "include_colab_link": true
    },
    "kernelspec": {
      "name": "python3",
      "display_name": "Python 3"
    },
    "language_info": {
      "name": "python"
    }
  },
  "cells": [
    {
      "cell_type": "markdown",
      "metadata": {
        "id": "view-in-github",
        "colab_type": "text"
      },
      "source": [
        "<a href=\"https://colab.research.google.com/github/AlexisSalazarRodriguez/Machine_Learning/blob/main/python.ipynb\" target=\"_parent\"><img src=\"https://colab.research.google.com/assets/colab-badge.svg\" alt=\"Open In Colab\"/></a>"
      ]
    },
    {
      "cell_type": "code",
      "execution_count": 2,
      "metadata": {
        "colab": {
          "base_uri": "https://localhost:8080/"
        },
        "id": "jyhmw5Lrnqrt",
        "outputId": "18c9ac97-a389-48cc-ed8f-b3553766bc74"
      },
      "outputs": [
        {
          "name": "stdout",
          "output_type": "stream",
          "text": [
            "Escribe tu nombre: Alexis\n"
          ]
        }
      ],
      "source": [
        "name=input(\"Escribe tu nombre: \")"
      ]
    },
    {
      "cell_type": "code",
      "source": [
        "name = input(\"Ingresa tu nombre: \")\n",
        "print(f\"Hola {name}!!, Bienvenido al curso\")"
      ],
      "metadata": {
        "colab": {
          "base_uri": "https://localhost:8080/"
        },
        "id": "yIXD--Zj2HKr",
        "outputId": "253f700c-de22-45c1-9d0e-a956917d2e94"
      },
      "execution_count": 6,
      "outputs": [
        {
          "output_type": "stream",
          "name": "stdout",
          "text": [
            "Ingresa tu nombre: Alexis\n",
            "Hola Alexis!!, Bienvenido al curso\n"
          ]
        }
      ]
    },
    {
      "cell_type": "code",
      "source": [
        "my_list= [2,5,'hola',10, ['Jhon', 'resultado', '10'], 999, None]\n",
        "my_list[4][0]"
      ],
      "metadata": {
        "colab": {
          "base_uri": "https://localhost:8080/",
          "height": 35
        },
        "id": "_6i8nwIa9qHu",
        "outputId": "144e7f38-a21b-4ca1-804b-a1a58e336ff1"
      },
      "execution_count": 7,
      "outputs": [
        {
          "output_type": "execute_result",
          "data": {
            "text/plain": [
              "'Jhon'"
            ],
            "application/vnd.google.colaboratory.intrinsic+json": {
              "type": "string"
            }
          },
          "metadata": {},
          "execution_count": 7
        }
      ]
    },
    {
      "cell_type": "code",
      "source": [
        "A=5\n",
        "print(A)"
      ],
      "metadata": {
        "colab": {
          "base_uri": "https://localhost:8080/"
        },
        "id": "MV-afhxsrDse",
        "outputId": "50c5440b-1e94-4628-e221-ead1b6e39244"
      },
      "execution_count": 8,
      "outputs": [
        {
          "output_type": "stream",
          "name": "stdout",
          "text": [
            "5\n"
          ]
        }
      ]
    },
    {
      "cell_type": "code",
      "source": [
        "edad = int(input(\"Ingrese su edad: \"))\n",
        "if edad >=65:\n",
        "  print(\"Supera el umbral para votar\")\n",
        "elif edad<=65 and edad>=18:\n",
        "  print(\"Si puede votar\")\n",
        "else:\n",
        "  print(\"Aún no cumple la mayoría de edad\")\n"
      ],
      "metadata": {
        "colab": {
          "base_uri": "https://localhost:8080/"
        },
        "id": "JohCUftmzlHY",
        "outputId": "9a139f1f-a24b-4fa1-da11-490a4b6d7afb"
      },
      "execution_count": 17,
      "outputs": [
        {
          "output_type": "stream",
          "name": "stdout",
          "text": [
            "Ingrese su edad: 100\n",
            "Supera el umbral para votar\n"
          ]
        }
      ]
    },
    {
      "cell_type": "code",
      "source": [
        "i = 0\n",
        "while i <=10:\n",
        "  print(i*7)\n",
        "  i += 1"
      ],
      "metadata": {
        "colab": {
          "base_uri": "https://localhost:8080/"
        },
        "id": "Hv-IWi-O8r-i",
        "outputId": "d5ecc73e-5555-42c3-c4aa-d15cb28eef94"
      },
      "execution_count": 22,
      "outputs": [
        {
          "output_type": "stream",
          "name": "stdout",
          "text": [
            "0\n",
            "7\n",
            "14\n",
            "21\n",
            "28\n",
            "35\n",
            "42\n",
            "49\n",
            "56\n",
            "63\n",
            "70\n"
          ]
        }
      ]
    },
    {
      "cell_type": "code",
      "source": [
        "# Multiplos de 71, del 1 al 1000\n",
        "for i in range(1,1000):\n",
        " if i%71 == 0:\n",
        "  print(i)\n"
      ],
      "metadata": {
        "colab": {
          "base_uri": "https://localhost:8080/"
        },
        "id": "Gr1sSFs5-Cmj",
        "outputId": "0fcbdeda-a5bc-4183-e4bc-51e20f95365b"
      },
      "execution_count": 55,
      "outputs": [
        {
          "output_type": "stream",
          "name": "stdout",
          "text": [
            "71\n",
            "142\n",
            "213\n",
            "284\n",
            "355\n",
            "426\n",
            "497\n",
            "568\n",
            "639\n",
            "710\n",
            "781\n",
            "852\n",
            "923\n",
            "994\n"
          ]
        }
      ]
    }
  ]
}